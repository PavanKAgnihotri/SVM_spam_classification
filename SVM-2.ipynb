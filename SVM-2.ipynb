{
 "cells": [
  {
   "cell_type": "code",
   "execution_count": 1,
   "id": "f0f722a9-bf92-4341-9413-d256b6a3da7a",
   "metadata": {},
   "outputs": [],
   "source": [
    "import pandas as pd\n",
    "from sklearn.model_selection import train_test_split\n",
    "from sklearn.svm import SVC\n",
    "from sklearn.metrics import accuracy_score\n",
    "from sklearn.ensemble import RandomForestClassifier"
   ]
  },
  {
   "cell_type": "code",
   "execution_count": 3,
   "id": "f57fd08a-7c9f-4097-9ceb-87e5101134db",
   "metadata": {
    "scrolled": true
   },
   "outputs": [
    {
     "name": "stdout",
     "output_type": "stream",
     "text": [
      "        0     1     2    3     4     5     6     7     8     9   ...     48  \\\n",
      "0     0.00  0.64  0.64  0.0  0.32  0.00  0.00  0.00  0.00  0.00  ...  0.000   \n",
      "1     0.21  0.28  0.50  0.0  0.14  0.28  0.21  0.07  0.00  0.94  ...  0.000   \n",
      "2     0.06  0.00  0.71  0.0  1.23  0.19  0.19  0.12  0.64  0.25  ...  0.010   \n",
      "3     0.00  0.00  0.00  0.0  0.63  0.00  0.31  0.63  0.31  0.63  ...  0.000   \n",
      "4     0.00  0.00  0.00  0.0  0.63  0.00  0.31  0.63  0.31  0.63  ...  0.000   \n",
      "...    ...   ...   ...  ...   ...   ...   ...   ...   ...   ...  ...    ...   \n",
      "4596  0.31  0.00  0.62  0.0  0.00  0.31  0.00  0.00  0.00  0.00  ...  0.000   \n",
      "4597  0.00  0.00  0.00  0.0  0.00  0.00  0.00  0.00  0.00  0.00  ...  0.000   \n",
      "4598  0.30  0.00  0.30  0.0  0.00  0.00  0.00  0.00  0.00  0.00  ...  0.102   \n",
      "4599  0.96  0.00  0.00  0.0  0.32  0.00  0.00  0.00  0.00  0.00  ...  0.000   \n",
      "4600  0.00  0.00  0.65  0.0  0.00  0.00  0.00  0.00  0.00  0.00  ...  0.000   \n",
      "\n",
      "         49   50     51     52     53     54   55    56  57  \n",
      "0     0.000  0.0  0.778  0.000  0.000  3.756   61   278   1  \n",
      "1     0.132  0.0  0.372  0.180  0.048  5.114  101  1028   1  \n",
      "2     0.143  0.0  0.276  0.184  0.010  9.821  485  2259   1  \n",
      "3     0.137  0.0  0.137  0.000  0.000  3.537   40   191   1  \n",
      "4     0.135  0.0  0.135  0.000  0.000  3.537   40   191   1  \n",
      "...     ...  ...    ...    ...    ...    ...  ...   ...  ..  \n",
      "4596  0.232  0.0  0.000  0.000  0.000  1.142    3    88   0  \n",
      "4597  0.000  0.0  0.353  0.000  0.000  1.555    4    14   0  \n",
      "4598  0.718  0.0  0.000  0.000  0.000  1.404    6   118   0  \n",
      "4599  0.057  0.0  0.000  0.000  0.000  1.147    5    78   0  \n",
      "4600  0.000  0.0  0.125  0.000  0.000  1.250    5    40   0  \n",
      "\n",
      "[4601 rows x 58 columns]\n"
     ]
    }
   ],
   "source": [
    "# load the data (the UCI spambase dataset)\n",
    "df = pd.read_csv('https://archive.ics.uci.edu/ml/machine-learning-databases/spambase/spambase.data', header=None)\n",
    "print(df)"
   ]
  },
  {
   "cell_type": "code",
   "execution_count": 5,
   "id": "ce56ae4c-83ad-40a2-9263-c9c32baf5cff",
   "metadata": {},
   "outputs": [],
   "source": [
    "x = df.iloc[:, :-1]  # Features\n",
    "y = df.iloc[:, -1]   # Labels"
   ]
  },
  {
   "cell_type": "code",
   "execution_count": 7,
   "id": "b36c62b1-0d04-4fe7-9c03-fcc03413c98b",
   "metadata": {},
   "outputs": [],
   "source": [
    "# split the data into training and test sets\n",
    "x_train, x_test, y_train, y_test = train_test_split(x, y, test_size=0.25, random_state=42)"
   ]
  },
  {
   "cell_type": "code",
   "execution_count": 9,
   "id": "b47f051e-2a95-406e-94a6-9e5b11f58dd3",
   "metadata": {},
   "outputs": [],
   "source": [
    "#SVM model construction and prediction\n",
    "kernels = ['linear', 'poly', 'rbf']\n",
    "svm_acuracy = {}\n",
    "for k in kernels:\n",
    "    svm = SVC(kernel=k)\n",
    "    svm.fit(x_train, y_train)\n",
    "    y_pred = svm.predict(x_test)\n",
    "    svm_acuracy[k] = accuracy_score(y_test, y_pred)"
   ]
  },
  {
   "cell_type": "code",
   "execution_count": 11,
   "id": "33eef6c2-7a87-4742-aa78-1c107ce49e8a",
   "metadata": {},
   "outputs": [],
   "source": [
    "# Comparison with Random Forest\n",
    "rf = RandomForestClassifier(n_estimators=100)\n",
    "rf.fit(x_train, y_train)\n",
    "rf_pred = rf.predict(x_test)\n",
    "rf_accuracy = accuracy_score(y_test, rf_pred)"
   ]
  },
  {
   "cell_type": "code",
   "execution_count": 13,
   "id": "a0d58483-4902-4046-9ed3-fbc2a4178bee",
   "metadata": {},
   "outputs": [
    {
     "name": "stdout",
     "output_type": "stream",
     "text": [
      "SVM Accuracies:\n",
      "SVM Kernel Function: linear, Accuracy: 93.2\n",
      "SVM Kernel Function: poly, Accuracy: 63.6\n",
      "SVM Kernel Function: rbf, Accuracy: 67.8\n"
     ]
    }
   ],
   "source": [
    "print(\"SVM Accuracies:\")\n",
    "for kernel, acc in svm_acuracy.items():\n",
    "    print(f\"SVM Kernel Function: {kernel}, Accuracy: {acc*100:.1f}\")"
   ]
  },
  {
   "cell_type": "code",
   "execution_count": 15,
   "id": "6698919a-78a3-44b2-8bcd-6c0cd296d931",
   "metadata": {},
   "outputs": [
    {
     "name": "stdout",
     "output_type": "stream",
     "text": [
      "Random Forest Accuracy: 95.7\n"
     ]
    }
   ],
   "source": [
    "print(f\"Random Forest Accuracy: {rf_accuracy*100:.1f}\")"
   ]
  },
  {
   "cell_type": "code",
   "execution_count": null,
   "id": "3aa9101a-655b-464c-afe4-3b85d89d7b76",
   "metadata": {},
   "outputs": [],
   "source": []
  }
 ],
 "metadata": {
  "kernelspec": {
   "display_name": "Python 3 (ipykernel)",
   "language": "python",
   "name": "python3"
  },
  "language_info": {
   "codemirror_mode": {
    "name": "ipython",
    "version": 3
   },
   "file_extension": ".py",
   "mimetype": "text/x-python",
   "name": "python",
   "nbconvert_exporter": "python",
   "pygments_lexer": "ipython3",
   "version": "3.12.4"
  }
 },
 "nbformat": 4,
 "nbformat_minor": 5
}
